{
 "cells": [
  {
   "cell_type": "code",
   "execution_count": 82,
   "metadata": {},
   "outputs": [],
   "source": [
    "# General imports\n",
    "import pickle\n",
    "import copy\n",
    "from pathlib import Path\n",
    "import os\n",
    "import numpy as np\n",
    "import pandas as pd\n",
    "from tqdm.notebook import tqdm\n",
    "from datetime import datetime\n",
    "from collections import namedtuple, deque\n",
    "from copy import deepcopy, copy\n",
    "import random\n",
    "\n",
    "# Pytorch imports\n",
    "import gym\n",
    "import torch\n",
    "import torch.nn as nn\n",
    "import torch.nn.functional as F\n",
    "import torch.optim as optim\n",
    "from torch.utils.tensorboard import SummaryWriter\n",
    "from torchsummary import summary\n",
    "\n",
    "# Plotting imports\n",
    "import matplotlib.pyplot as plt\n",
    "import seaborn as sns\n",
    "import imageio\n",
    "from PIL import Image\n",
    "import PIL.ImageDraw as ImageDraw\n",
    "\n",
    "from lunar_lander import LunarLander"
   ]
  },
  {
   "cell_type": "code",
   "execution_count": 2,
   "metadata": {},
   "outputs": [
    {
     "name": "stdout",
     "output_type": "stream",
     "text": [
      "Installed GYM version is: 0.26.2\n"
     ]
    }
   ],
   "source": [
    "print(f'Installed GYM version is: {gym.__version__}')"
   ]
  },
  {
   "attachments": {},
   "cell_type": "markdown",
   "metadata": {},
   "source": [
    "Change default plotting parameters"
   ]
  },
  {
   "cell_type": "code",
   "execution_count": 3,
   "metadata": {},
   "outputs": [],
   "source": [
    "# Set Seaborn aesthetics\n",
    "sns.set_style('darkgrid')\n",
    "plt.rcParams['figure.figsize'] = (6,4)\n",
    "plt.rcParams['lines.linewidth'] = 2\n",
    "plt.rcParams['axes.titlesize'] = 14\n",
    "plt.rcParams['axes.titlelocation'] = 'left'\n",
    "plt.style.use('ggplot')"
   ]
  },
  {
   "attachments": {},
   "cell_type": "markdown",
   "metadata": {},
   "source": [
    "# Environment"
   ]
  },
  {
   "cell_type": "code",
   "execution_count": 4,
   "metadata": {},
   "outputs": [],
   "source": [
    "env = gym.make(\"LunarLander-v2\", render_mode='rgb_array')"
   ]
  },
  {
   "cell_type": "code",
   "execution_count": 6,
   "metadata": {},
   "outputs": [
    {
     "name": "stdout",
     "output_type": "stream",
     "text": [
      "Reward threshold is: 200\n",
      "Reward range is: (-inf, inf)\n",
      "Maximun number of steps per episode: 1000\n",
      "Action space dimension is: 4\n",
      "Observation space dimension is: (8,)\n"
     ]
    }
   ],
   "source": [
    "print(f'Reward threshold is: {env.spec.reward_threshold}')\n",
    "print(f'Reward range is: {env.reward_range}')\n",
    "print(f'Maximun number of steps per episode: {env.spec.max_episode_steps}')\n",
    "print(f'Action space dimension is: {env.action_space.n}')\n",
    "print(f'Observation space dimension is: {env.observation_space.shape}')"
   ]
  },
  {
   "attachments": {},
   "cell_type": "markdown",
   "metadata": {},
   "source": [
    "Las 4 acciones disponibles son:\n",
    "* 0: No hacer nada\n",
    "* 1: Encender el motor izquierdo\n",
    "* 2: Encender el motor principal (bajo la nave)\n",
    "* 3: Encender el motor derecho"
   ]
  },
  {
   "attachments": {},
   "cell_type": "markdown",
   "metadata": {},
   "source": [
    "Vemos que el estado es un vector de 8 elementos, que son, segun la [documentación de OpenAI](https://www.gymlibrary.dev/environments/box2d/lunar_lander/):\n",
    "1. Posición en x\n",
    "2. Posición en y\n",
    "3. Velocidad en x\n",
    "4. Velocidad en y\n",
    "5. Ángulo\n",
    "6. Velocidad angular\n",
    "7. Booleano que indica si la pata izquierda está en contacto con el suelo\n",
    "8. Booleano que indica si la pata derecha está en contacto con el suelo"
   ]
  },
  {
   "cell_type": "code",
   "execution_count": 12,
   "metadata": {},
   "outputs": [],
   "source": [
    "class randAgent():\n",
    "    '''Class for a random agent.'''\n",
    "    def __init__(self, env):\n",
    "        self.env = env\n",
    "        self.action_space = env.action_space.n\n",
    "        self.observation_space = env.observation_space.shape[0]\n",
    "    \n",
    "    \n",
    "    def get_action(self, state):\n",
    "        return self.env.action_space.sample()\n"
   ]
  },
  {
   "cell_type": "code",
   "execution_count": 27,
   "metadata": {},
   "outputs": [],
   "source": [
    "def play_episode(env:gym.Env, agent, save:bool = False) -> tuple[float, int]:\n",
    "    '''Plays a random episode and returns the total reward and number of steps taken'''\n",
    "\n",
    "    obs = env.reset()[0]\n",
    "    total_reward, done, steps = 0, False, 0\n",
    "    frames = []\n",
    "    \n",
    "    def _label_with_text(frame):\n",
    "        '''\n",
    "        frame: gym environment frame\n",
    "        '''\n",
    "        im = Image.fromarray(frame)\n",
    "        im = im.resize((im.size[0]*2,im.size[1]*2))\n",
    "        drawer = ImageDraw.Draw(im)\n",
    "        drawer.text((1, 1), \"UOC Aprendizaje Por Refuerzo. Gerson Villalba Arana\", \n",
    "                    fill=(255, 255, 255, 128))\n",
    "        return im\n",
    "    \n",
    "    while not done:\n",
    "        # Get action from agent\n",
    "        action = agent.get_action(obs)\n",
    "        if save:\n",
    "            frame = env.render()\n",
    "            frames.append(_label_with_text(frame))\n",
    "        # Take step in environment\n",
    "        new_obs, reward, done, info, _ = env.step(action)\n",
    "        # Update state, counter and total reward\n",
    "        obs = new_obs\n",
    "        steps += 1\n",
    "        total_reward += reward\n",
    "\n",
    "    env.close()\n",
    "    if save:\n",
    "        filename = 'lunar_lander_' + agent.__class__.__name__ + '.gif'\n",
    "        imageio.mimwrite(Path('videos') / filename, frames, fps=60)\n",
    "    return total_reward, steps"
   ]
  },
  {
   "cell_type": "code",
   "execution_count": 29,
   "metadata": {},
   "outputs": [
    {
     "name": "stdout",
     "output_type": "stream",
     "text": [
      "Total reward: -119.17973148851078, Steps: 71\n"
     ]
    }
   ],
   "source": [
    "random_agent = randAgent(env)\n",
    "total_reward, steps = play_episode(env, random_agent, save=True)\n",
    "print(f'Total reward: {total_reward}, Steps: {steps}')"
   ]
  },
  {
   "attachments": {},
   "cell_type": "markdown",
   "metadata": {},
   "source": [
    "Play several games with the random agent to see how the environment works."
   ]
  },
  {
   "cell_type": "code",
   "execution_count": 30,
   "metadata": {},
   "outputs": [
    {
     "data": {
      "application/vnd.jupyter.widget-view+json": {
       "model_id": "44a1b1b41dc947ee868ae908acbe25d0",
       "version_major": 2,
       "version_minor": 0
      },
      "text/plain": [
       "  0%|          | 0/1000 [00:00<?, ?it/s]"
      ]
     },
     "metadata": {},
     "output_type": "display_data"
    }
   ],
   "source": [
    "def play_episodes(env:gym.Env, agent, n_episodes:int) -> tuple[np.ndarray, np.ndarray]:\n",
    "    '''Plays n_episodes random episodes and returns the total reward and number of steps taken'''\n",
    "    total_rewards = []\n",
    "    n_steps = []\n",
    "    for i in tqdm(range(n_episodes)):\n",
    "        total_reward, steps = play_episode(env, agent, save=False)\n",
    "        total_rewards.append(total_reward)\n",
    "        n_steps.append(steps)\n",
    "    return np.array(total_rewards), np.array(n_steps)\n",
    "\n",
    "\n",
    "n_episodes = 1000\n",
    "total_rewards, n_steps = play_episodes(env, random_agent, n_episodes)"
   ]
  },
  {
   "cell_type": "code",
   "execution_count": 31,
   "metadata": {},
   "outputs": [
    {
     "data": {
      "image/png": "[encoded data removed]",
      "text/plain": [
       "<Figure size 1000x400 with 2 Axes>"
      ]
     },
     "metadata": {},
     "output_type": "display_data"
    }
   ],
   "source": [
    "# Plotting the results\n",
    "def plot_results_hist(n_steps, total_rewards):\n",
    "    fig, ax = plt.subplots(1,2,figsize=(10,4), sharey=True)\n",
    "    sns.histplot(x=n_steps, ax=ax[0], bins=20, kde=True)\n",
    "    ax[0].set_title(f'Steps per episode (mean={n_steps.mean():.2f})')\n",
    "    ax[0].set_xlabel('Steps')\n",
    "    ax[0].set_ylabel('Frequency')\n",
    "    sns.histplot(x=total_rewards, ax=ax[1], bins=20, kde=True)\n",
    "    ax[1].set_title(f'Total reward per episode (mean={total_rewards.mean():.2f})')\n",
    "    ax[1].set_xlabel('Total reward')\n",
    "    ax[1].set_ylabel('Frequency')\n",
    "    fig.tight_layout()\n",
    "    plt.show()\n",
    "    \n",
    "plot_results_hist(n_steps, total_rewards)"
   ]
  },
  {
   "attachments": {},
   "cell_type": "markdown",
   "metadata": {},
   "source": [
    "# Reference agent: DQN"
   ]
  },
  {
   "attachments": {},
   "cell_type": "markdown",
   "metadata": {},
   "source": [
    "### Experience replay buffer"
   ]
  },
  {
   "cell_type": "code",
   "execution_count": 108,
   "metadata": {},
   "outputs": [],
   "source": [
    "class experienceReplayBuffer:\n",
    "    def __init__(self, memory_size=5000, burn_in=1000):\n",
    "        self.memory_size = memory_size\n",
    "        self.burn_in = burn_in\n",
    "        self.experience = namedtuple('Experience', field_names=['state', 'action', 'reward', 'done', 'next_state'])\n",
    "        self.replay_memory = deque(maxlen=memory_size)\n",
    "\n",
    "    def sample_batch(self, batch_size=32, device='cpu'):\n",
    "        '''Sample a batch of experiences from the replay memory and return it as a tuple of tensors'''\n",
    "        samples = random.sample(self.replay_memory, k=batch_size)\n",
    "        states = torch.FloatTensor(np.vstack([e.state for e in samples])).to(device)\n",
    "        actions = torch.LongTensor(np.vstack([e.action for e in samples])).to(device)\n",
    "        rewards = torch.FloatTensor(np.vstack([e.reward for e in samples])).to(device)\n",
    "        dones = torch.ByteTensor(np.vstack([e.done for e in samples]).astype(np.uint8)).to(device)\n",
    "        next_states = torch.FloatTensor(np.vstack([e.next_state for e in samples])).to(device)\n",
    "        return (states, actions, rewards, dones, next_states)\n",
    "\n",
    "    def append(self, state, action, reward, done, next_state):\n",
    "        '''Add a new experience to memory.'''\n",
    "        exp = self.experience(state, action, reward, done, next_state)\n",
    "        self.replay_memory.append(exp)\n",
    "\n",
    "    def burn_in_capacity(self):\n",
    "        return len(self.replay_memory) / self.burn_in"
   ]
  },
  {
   "attachments": {},
   "cell_type": "markdown",
   "metadata": {},
   "source": [
    "### Neural network"
   ]
  },
  {
   "cell_type": "code",
   "execution_count": 109,
   "metadata": {},
   "outputs": [],
   "source": [
    "class DQN_NN(nn.Module):\n",
    "    \n",
    "    def __init__(self, n_inputs, n_hl1, n_hl2, n_outputs):\n",
    "        super().__init__()\n",
    "        \"\"\"\n",
    "        Params\n",
    "        ======\n",
    "        n_inputs: number of inputs\n",
    "        n_hl1: number of units in the first hidden layer\n",
    "        n_hl2: number of units in the second hidden layer\n",
    "        n_outputs: number of outputs\n",
    "        \"\"\"\n",
    "        self.n_inputs = n_inputs\n",
    "        self.n_hl1 = n_hl1\n",
    "        self.n_hl2 = n_hl2\n",
    "        self.n_outputs = n_outputs\n",
    "        \n",
    "        self.fc1 = nn.Sequential(\n",
    "            nn.Linear(self.n_inputs, self.n_hl1),\n",
    "            nn.ReLU(),\n",
    "            nn.Linear(self.n_hl1, self.n_hl2),\n",
    "            nn.ReLU(),\n",
    "            nn.Linear(self.n_hl2, self.n_outputs)\n",
    "        )\n",
    "\n",
    "\n",
    "    def forward(self, x):\n",
    "        '''Forward pass through the network'''\n",
    "        return self.fc1(x)\n",
    "    \n",
    "    \n",
    "    def get_qvals(self, state):\n",
    "        '''Returns the q-values for a given state'''\n",
    "        if state.dim == 1:\n",
    "            state = torch.unsqueeze(state, 0)\n",
    "        return self.forward(state)\n",
    "    "
   ]
  },
  {
   "attachments": {},
   "cell_type": "markdown",
   "metadata": {},
   "source": [
    "Test the NN."
   ]
  },
  {
   "cell_type": "code",
   "execution_count": 60,
   "metadata": {},
   "outputs": [
    {
     "name": "stdout",
     "output_type": "stream",
     "text": [
      "Input tensor to the NN: torch.Size([1, 8])\n",
      "Output tensor:tensor([[ 0.1646, -0.0681, -0.0364,  0.0904]], device='cuda:0',\n",
      "       grad_fn=<AddmmBackward0>)\n",
      "Output tensor shape:torch.Size([1, 4])\n"
     ]
    }
   ],
   "source": [
    "env = gym.make('LunarLander-v2')\n",
    "device = torch.device(\"cuda\" if torch.cuda.is_available() else \"cpu\")\n",
    "net = DQN_NN(n_inputs=env.observation_space.shape[0], n_hl1=64, n_hl2=64, \n",
    "             n_outputs=env.action_space.n).to(device)\n",
    "obs = env.reset()[0]\n",
    "obs_tensor = torch.Tensor(obs).to(device).unsqueeze(0)\n",
    "print(f'Input tensor to the NN: {obs_tensor.shape}')\n",
    "output = net(obs_tensor)\n",
    "print(f'Output tensor:{output}')\n",
    "print(f'Output tensor shape:{output.shape}')"
   ]
  },
  {
   "cell_type": "code",
   "execution_count": 61,
   "metadata": {},
   "outputs": [
    {
     "name": "stdout",
     "output_type": "stream",
     "text": [
      "Network architecture:\n",
      "----------------------------------------------------------------\n",
      "        Layer (type)               Output Shape         Param #\n",
      "================================================================\n",
      "            Linear-1                [-1, 1, 64]             576\n",
      "              ReLU-2                [-1, 1, 64]               0\n",
      "            Linear-3                [-1, 1, 64]           4,160\n",
      "              ReLU-4                [-1, 1, 64]               0\n",
      "            Linear-5                 [-1, 1, 4]             260\n",
      "================================================================\n",
      "Total params: 4,996\n",
      "Trainable params: 4,996\n",
      "Non-trainable params: 0\n",
      "----------------------------------------------------------------\n",
      "Input size (MB): 0.00\n",
      "Forward/backward pass size (MB): 0.00\n",
      "Params size (MB): 0.02\n",
      "Estimated Total Size (MB): 0.02\n",
      "----------------------------------------------------------------\n"
     ]
    }
   ],
   "source": [
    "print('Network architecture:')\n",
    "summary(net, input_size=(1,net.n_inputs))"
   ]
  },
  {
   "cell_type": "code",
   "execution_count": 111,
   "metadata": {},
   "outputs": [],
   "source": [
    "class DQNAgent:\n",
    "\n",
    "    def __init__(self, env, network, device, buffer, gamma=0.99, \n",
    "                batch_size=32, lr=0.001, nblock=100, writer=None):\n",
    "        \"\"\"\"\n",
    "        Params\n",
    "        ======\n",
    "        env: environment\n",
    "        network: neural network\n",
    "        buffer: clase con el buffer de repetición de experiencias\n",
    "        epsilon: epsilon\n",
    "        eps_decay: epsilon decay\n",
    "        eps_min: minimum epsilon\n",
    "        batch_size: batch size\n",
    "        nblock: bloque de los X últimos episodios de los que se calculará la media de recompensa\n",
    "        device: dispositivo\n",
    "        actions: array de acciones posibles\n",
    "        \"\"\"\n",
    "\n",
    "        self.env = env\n",
    "        self.main_network = network\n",
    "        self.target_network = deepcopy(network)\n",
    "        \n",
    "        self.buffer = buffer\n",
    "        self.writer = writer\n",
    "        self.gamma = gamma\n",
    "        self.batch_size = batch_size\n",
    "        self.nblock = nblock\n",
    "        self.device = device\n",
    "        \n",
    "        # Action space\n",
    "        self.actions = [i for i in range(self.env.action_space.n)]\n",
    "        \n",
    "        # Set optimizer for the main network\n",
    "        self.optimizer = optim.Adam(self.main_network.parameters(), lr=lr)\n",
    "        \n",
    "        # Initialize lists to store the results\n",
    "        self.update_loss = []\n",
    "        self.training_rewards = []\n",
    "        self.mean_training_rewards = []\n",
    "        self.epsilons = []\n",
    "        self.losses = []\n",
    "        self.sync_eps = []\n",
    "        self.total_reward = 0\n",
    "        self.step_count = 0\n",
    "        \n",
    "        self.state0 = self.env.reset()[0]\n",
    "        \n",
    "    \n",
    "    ### e-greedy method\n",
    "    def get_action(self, state, epsilon=0.0):\n",
    "        '''Return an action using an epsilon-greedy policy\n",
    "        \n",
    "             Params\n",
    "            ======\n",
    "            state (array_like): current state\n",
    "            epsilon (float): epsilon, for epsilon-greedy action selection\n",
    "        '''\n",
    "        \n",
    "        if np.random.random() < epsilon:\n",
    "            action = np.random.choice(self.actions)\n",
    "        else:\n",
    "            state = torch.Tensor(state).unsqueeze(0).to(self.device)\n",
    "            self.main_network.eval()\n",
    "            with torch.inference_mode():\n",
    "                qvals = self.main_network(state)\n",
    "            self.main_network.train()\n",
    "            action= torch.argmax(qvals, dim=-1).cpu().item()\n",
    "        return action\n",
    "\n",
    "\n",
    "    def take_step(self, eps, mode='train'):\n",
    "        # Get random action\n",
    "        if mode == 'explore':\n",
    "            action = self.env.action_space.sample()  \n",
    "        # Get action from q-values\n",
    "        else:\n",
    "            action = self.get_action(self.state0, eps)\n",
    "            self.step_count += 1\n",
    "\n",
    "        #Realización de la acción y obtención del nuevo estado y la recompensa.\n",
    "        new_state, reward, done, _, _ = self.env.step(action)\n",
    "        self.total_reward += reward\n",
    "        # Save experience in buffer\n",
    "        self.buffer.append(self.state0, action, reward, done, new_state) \n",
    "        self.state0 = new_state\n",
    "\n",
    "        # Reset environment 'if done'\n",
    "        if done:\n",
    "            self.state0 = self.env.reset()[0]\n",
    "        return done\n",
    "\n",
    "\n",
    "    def train(self, max_episodes=5000, min_episodios=250, max_t=1000,\n",
    "              batch_size=32, eps_start=1.0, eps_end=0.01, eps_decay=0.995,\n",
    "              dnn_update_frequency=4, dnn_sync_frequency=1000):\n",
    "        \n",
    "        epsilon = eps_start\n",
    "        \n",
    "        # Fill the replay buffer with random experiences\n",
    "        print(\"Filling replay buffer...\")\n",
    "        while self.buffer.burn_in_capacity() < 1:\n",
    "            self.take_step(epsilon, mode='explore')\n",
    "        print(\"Replay buffer filled.\")\n",
    "        \n",
    "        # Training loop\n",
    "        print(\"Training...\")\n",
    "        episode, training = 0, True\n",
    "        pbar = tqdm(desc='Training', total=max_episodes)\n",
    "        \n",
    "        while training:\n",
    "            self.state0 = self.env.reset()[0]\n",
    "            self.total_reward = 0\n",
    "            gamedone = False\n",
    "            pbar.update(1)\n",
    "            # Play an episode\n",
    "            for t in range(max_t):\n",
    "                # Take action in train mode (epsilon-greedy policy)\n",
    "                gamedone = self.take_step(epsilon, mode='train')\n",
    "                # Update the main network\n",
    "                if not self.step_count % dnn_update_frequency:\n",
    "                    self.update()\n",
    "                # Target and main network syncronization\n",
    "                if not self.step_count % dnn_sync_frequency:\n",
    "                    self.target_network.load_state_dict(\n",
    "                        self.main_network.state_dict())\n",
    "                    self.sync_eps.append(episode)\n",
    "                if gamedone:\n",
    "                    break\n",
    "\n",
    "            episode += 1\n",
    "            # Save epsilon, loss, training reward and mean training reward\n",
    "            self.training_rewards.append(self.total_reward)\n",
    "            self.epsilons.append(epsilon)\n",
    "            ep_loss = np.mean(np.array(self.update_loss))\n",
    "            self.losses.append(ep_loss)\n",
    "            mean_rewards = np.mean(self.training_rewards[-self.nblock:])\n",
    "            self.mean_training_rewards.append(mean_rewards)\n",
    "            \n",
    "            # Add to tensorboard\n",
    "            if self.writer is not None:\n",
    "                self.writer.add_scalar(\"epsilon\", epsilon, episode)\n",
    "                self.writer.add_scalar(\"loss\", ep_loss, episode)\n",
    "                self.writer.add_scalar(\"reward\", self.total_reward, episode)\n",
    "                self.writer.add_scalar(\"mean_reward\", mean_rewards, episode)\n",
    "            \n",
    "            self.update_loss = []\n",
    "\n",
    "            print(\"\\rEpisode {:d} Mean Rewards {:.2f} Epsilon {} , Loss {:.2f}\\t\\t\".format(\n",
    "                episode, mean_rewards, epsilon, ep_loss), end=\"\")\n",
    "\n",
    "            # Check if the episode limit has been reached\n",
    "            if episode >= max_episodes:\n",
    "                training = False\n",
    "                print('Episode limit reached.')\n",
    "                break\n",
    "\n",
    "            # Termina el juego si la media de recompensas ha llegado al umbral fijado para este juego\n",
    "            # y se ha entrenado un mínimo de episodios\n",
    "            if mean_rewards >= self.env.spec.reward_threshold and min_episodios < episode:\n",
    "                training = False\n",
    "                print(f'Environment solved in {episode} episodes!')\n",
    "                break\n",
    "\n",
    "            # Epsilon update\n",
    "            epsilon = max(epsilon * eps_decay, eps_end)\n",
    "\n",
    "\n",
    "    def calculate_loss(self, batch):\n",
    "        # We extract the states, actions, rewards, dones and next_states from the batch\n",
    "        states, actions, rewards, dones, next_states = batch\n",
    "        # Get q-values for all actions in current states\n",
    "        qvals = torch.gather(self.main_network.get_qvals(states), 1, actions)\n",
    "        # Get max q-values for next states from target network\n",
    "        qvals_next = self.target_network(next_states).detach().max(1)[0].unsqueeze(1)\n",
    "        # Q-vals to 0 in terminal states\n",
    "        qvals_next[dones] = 0\n",
    "        # Bellman equation\n",
    "        expected_qvals = self.gamma * qvals_next + rewards\n",
    "        # Loss calculation\n",
    "        loss = F.mse_loss(qvals, expected_qvals.reshape(-1,1))\n",
    "        return loss\n",
    "\n",
    "\n",
    "    def update(self):\n",
    "        # Reset gradients\n",
    "        self.optimizer.zero_grad()\n",
    "        # Take a random batch from the buffer\n",
    "        batch = self.buffer.sample_batch(batch_size=self.batch_size, device=self.device)\n",
    "        # Calculate loss\n",
    "        loss = self.calculate_loss(batch)\n",
    "        # Backpropagate loss\n",
    "        loss.backward()\n",
    "        # Update network weights with gradients\n",
    "        self.optimizer.step()\n",
    "        # Save loss\n",
    "        self.update_loss.append(loss.detach().to('cpu').item())"
   ]
  },
  {
   "attachments": {},
   "cell_type": "markdown",
   "metadata": {},
   "source": [
    "### Entrenamiento del agente"
   ]
  },
  {
   "cell_type": "code",
   "execution_count": 112,
   "metadata": {},
   "outputs": [],
   "source": [
    "LR = 0.001            #Velocidad de aprendizaje\n",
    "MEMORY_SIZE = 8000    #Máxima capacidad del buffer\n",
    "BURN_IN = 1000        #Número de episodios iniciales usados para rellenar el buffer antes de entrenar\n",
    "MAX_EPISODES = 500   #Número máximo de episodios (el agente debe aprender antes de llegar a este valor)\n",
    "\n",
    "EPSILON = 1           #Valor inicial de epsilon\n",
    "EPSILON_DECAY = .995  #Decaimiento de epsilon\n",
    "EPSILON_MIN = 0.01    #Valor mínimo de epsilon\n",
    "GAMMA = 0.99          #Valor gamma de la ecuación de Bellman\n",
    "\n",
    "BATCH_SIZE = 32       #Conjunto a coger del buffer para la red neuronal\n",
    "\n",
    "DNN_UPD = 10          #Frecuencia de actualización de la red neuronal \n",
    "DNN_SYNC = 5000       #Frecuencia de sincronización de pesos entre la red neuronal y la red objetivo"
   ]
  },
  {
   "cell_type": "code",
   "execution_count": 114,
   "metadata": {},
   "outputs": [
    {
     "name": "stdout",
     "output_type": "stream",
     "text": [
      "Using device: cuda\n"
     ]
    }
   ],
   "source": [
    "# Set environment\n",
    "env = gym.make('LunarLander-v2')\n",
    "# Device selection\n",
    "device = torch.device('cuda' if torch.cuda.is_available() else 'cpu')\n",
    "print(f'Using device: {device}')\n",
    "\n",
    "# SummaryWriter to send to TensorBoard\n",
    "writer = SummaryWriter(Path('runs') / 'DQN' / datetime.now().strftime(\"%Y-%m-%d_%H-%M-%S\"))\n",
    "\n",
    "# Define agent's memory replay buffer\n",
    "buffer = experienceReplayBuffer(memory_size=MEMORY_SIZE, burn_in=BURN_IN)\n",
    "\n",
    "# Define network\n",
    "net = DQN_NN(n_inputs=env.observation_space.shape[0], n_hl1=64, n_hl2=64, \n",
    "             n_outputs=env.action_space.n).to(device)\n",
    "writer.add_graph(net, torch.Tensor(env.reset()[0]).to(device).unsqueeze(0))\n",
    "\n",
    "\n",
    "# Define agent\n",
    "DQN_agent = DQNAgent(env, net, device, buffer, gamma=GAMMA, lr = LR,\n",
    "                     batch_size=BATCH_SIZE, nblock=100, writer=writer)"
   ]
  },
  {
   "cell_type": "code",
   "execution_count": 106,
   "metadata": {},
   "outputs": [
    {
     "name": "stdout",
     "output_type": "stream",
     "text": [
      "Filling replay buffer...\n",
      "Replay buffer filled.\n",
      "Training...\n"
     ]
    },
    {
     "data": {
      "application/vnd.jupyter.widget-view+json": {
       "model_id": "6e302be060d64064b951694420d62e29",
       "version_major": 2,
       "version_minor": 0
      },
      "text/plain": [
       "Training:   0%|          | 0/500 [00:00<?, ?it/s]"
      ]
     },
     "metadata": {},
     "output_type": "display_data"
    },
    {
     "name": "stdout",
     "output_type": "stream",
     "text": [
      "Episode 1 Mean Rewards -404.57 Epsilon 0.0770043145805155 , Loss 218.36\t\t"
     ]
    },
    {
     "name": "stderr",
     "output_type": "stream",
     "text": [
      "/tmp/ipykernel_4721/1020612125.py:170: UserWarning: masked_fill_ received a mask with dtype torch.uint8, this behavior is now deprecated,please use a mask with dtype torch.bool instead. (Triggered internally at  /opt/conda/conda-bld/pytorch_1659484808560/work/aten/src/ATen/native/cuda/Indexing.cu:1239.)\n",
      "  qvals_next[dones] = 0\n"
     ]
    },
    {
     "name": "stdout",
     "output_type": "stream",
     "text": [
      "Episode 138 Mean Rewards -238.24 Epsilon 0.019432859888279527 , Loss 8.34\t\t\t"
     ]
    },
    {
     "ename": "KeyboardInterrupt",
     "evalue": "",
     "output_type": "error",
     "traceback": [
      "\u001b[0;31m---------------------------------------------------------------------------\u001b[0m",
      "\u001b[0;31mKeyboardInterrupt\u001b[0m                         Traceback (most recent call last)",
      "Cell \u001b[0;32mIn [106], line 1\u001b[0m\n\u001b[0;32m----> 1\u001b[0m DQN_agent\u001b[39m.\u001b[39;49mtrain(\n\u001b[1;32m      2\u001b[0m     gamma\u001b[39m=\u001b[39;49mGAMMA, \n\u001b[1;32m      3\u001b[0m     max_episodes\u001b[39m=\u001b[39;49mMAX_EPISODES, \n\u001b[1;32m      4\u001b[0m     batch_size\u001b[39m=\u001b[39;49mBATCH_SIZE, \n\u001b[1;32m      5\u001b[0m     dnn_update_frequency\u001b[39m=\u001b[39;49mDNN_UPD, \n\u001b[1;32m      6\u001b[0m     dnn_sync_frequency\u001b[39m=\u001b[39;49mDNN_SYNC)\n",
      "Cell \u001b[0;32mIn [102], line 111\u001b[0m, in \u001b[0;36mDQNAgent.train\u001b[0;34m(self, gamma, max_episodes, batch_size, dnn_update_frequency, dnn_sync_frequency, min_episodios)\u001b[0m\n\u001b[1;32m    108\u001b[0m pbar\u001b[39m.\u001b[39mupdate(\u001b[39m1\u001b[39m)\n\u001b[1;32m    109\u001b[0m \u001b[39mwhile\u001b[39;00m gamedone \u001b[39m==\u001b[39m \u001b[39mFalse\u001b[39;00m:\n\u001b[1;32m    110\u001b[0m     \u001b[39m# El agente toma una acción\u001b[39;00m\n\u001b[0;32m--> 111\u001b[0m     gamedone \u001b[39m=\u001b[39m \u001b[39mself\u001b[39;49m\u001b[39m.\u001b[39;49mtake_step(\u001b[39mself\u001b[39;49m\u001b[39m.\u001b[39;49mepsilon, mode\u001b[39m=\u001b[39;49m\u001b[39m'\u001b[39;49m\u001b[39mtrain\u001b[39;49m\u001b[39m'\u001b[39;49m)\n\u001b[1;32m    113\u001b[0m     \u001b[39m# Update the main network\u001b[39;00m\n\u001b[1;32m    114\u001b[0m     \u001b[39mif\u001b[39;00m \u001b[39mnot\u001b[39;00m \u001b[39mself\u001b[39m\u001b[39m.\u001b[39mstep_count \u001b[39m%\u001b[39m dnn_update_frequency:\n",
      "Cell \u001b[0;32mIn [102], line 76\u001b[0m, in \u001b[0;36mDQNAgent.take_step\u001b[0;34m(self, eps, mode)\u001b[0m\n\u001b[1;32m     73\u001b[0m     \u001b[39mself\u001b[39m\u001b[39m.\u001b[39mstep_count \u001b[39m+\u001b[39m\u001b[39m=\u001b[39m \u001b[39m1\u001b[39m\n\u001b[1;32m     75\u001b[0m \u001b[39m#Realización de la acción y obtención del nuevo estado y la recompensa.\u001b[39;00m\n\u001b[0;32m---> 76\u001b[0m new_state, reward, done, _, _ \u001b[39m=\u001b[39m \u001b[39mself\u001b[39;49m\u001b[39m.\u001b[39;49menv\u001b[39m.\u001b[39;49mstep(action)\n\u001b[1;32m     77\u001b[0m \u001b[39mself\u001b[39m\u001b[39m.\u001b[39mtotal_reward \u001b[39m+\u001b[39m\u001b[39m=\u001b[39m reward\n\u001b[1;32m     78\u001b[0m \u001b[39m# guardar experiencia en el buffer\u001b[39;00m\n",
      "File \u001b[0;32m~/anaconda3/envs/rl/lib/python3.10/site-packages/gym/wrappers/time_limit.py:50\u001b[0m, in \u001b[0;36mTimeLimit.step\u001b[0;34m(self, action)\u001b[0m\n\u001b[1;32m     39\u001b[0m \u001b[39mdef\u001b[39;00m \u001b[39mstep\u001b[39m(\u001b[39mself\u001b[39m, action):\n\u001b[1;32m     40\u001b[0m     \u001b[39m\"\"\"Steps through the environment and if the number of steps elapsed exceeds ``max_episode_steps`` then truncate.\u001b[39;00m\n\u001b[1;32m     41\u001b[0m \n\u001b[1;32m     42\u001b[0m \u001b[39m    Args:\u001b[39;00m\n\u001b[0;32m   (...)\u001b[0m\n\u001b[1;32m     48\u001b[0m \n\u001b[1;32m     49\u001b[0m \u001b[39m    \"\"\"\u001b[39;00m\n\u001b[0;32m---> 50\u001b[0m     observation, reward, terminated, truncated, info \u001b[39m=\u001b[39m \u001b[39mself\u001b[39;49m\u001b[39m.\u001b[39;49menv\u001b[39m.\u001b[39;49mstep(action)\n\u001b[1;32m     51\u001b[0m     \u001b[39mself\u001b[39m\u001b[39m.\u001b[39m_elapsed_steps \u001b[39m+\u001b[39m\u001b[39m=\u001b[39m \u001b[39m1\u001b[39m\n\u001b[1;32m     53\u001b[0m     \u001b[39mif\u001b[39;00m \u001b[39mself\u001b[39m\u001b[39m.\u001b[39m_elapsed_steps \u001b[39m>\u001b[39m\u001b[39m=\u001b[39m \u001b[39mself\u001b[39m\u001b[39m.\u001b[39m_max_episode_steps:\n",
      "File \u001b[0;32m~/anaconda3/envs/rl/lib/python3.10/site-packages/gym/wrappers/order_enforcing.py:37\u001b[0m, in \u001b[0;36mOrderEnforcing.step\u001b[0;34m(self, action)\u001b[0m\n\u001b[1;32m     35\u001b[0m \u001b[39mif\u001b[39;00m \u001b[39mnot\u001b[39;00m \u001b[39mself\u001b[39m\u001b[39m.\u001b[39m_has_reset:\n\u001b[1;32m     36\u001b[0m     \u001b[39mraise\u001b[39;00m ResetNeeded(\u001b[39m\"\u001b[39m\u001b[39mCannot call env.step() before calling env.reset()\u001b[39m\u001b[39m\"\u001b[39m)\n\u001b[0;32m---> 37\u001b[0m \u001b[39mreturn\u001b[39;00m \u001b[39mself\u001b[39;49m\u001b[39m.\u001b[39;49menv\u001b[39m.\u001b[39;49mstep(action)\n",
      "File \u001b[0;32m~/anaconda3/envs/rl/lib/python3.10/site-packages/gym/wrappers/env_checker.py:39\u001b[0m, in \u001b[0;36mPassiveEnvChecker.step\u001b[0;34m(self, action)\u001b[0m\n\u001b[1;32m     37\u001b[0m     \u001b[39mreturn\u001b[39;00m env_step_passive_checker(\u001b[39mself\u001b[39m\u001b[39m.\u001b[39menv, action)\n\u001b[1;32m     38\u001b[0m \u001b[39melse\u001b[39;00m:\n\u001b[0;32m---> 39\u001b[0m     \u001b[39mreturn\u001b[39;00m \u001b[39mself\u001b[39;49m\u001b[39m.\u001b[39;49menv\u001b[39m.\u001b[39;49mstep(action)\n",
      "File \u001b[0;32m~/anaconda3/envs/rl/lib/python3.10/site-packages/gym/envs/box2d/lunar_lander.py:556\u001b[0m, in \u001b[0;36mLunarLander.step\u001b[0;34m(self, action)\u001b[0m\n\u001b[1;32m    545\u001b[0m     p\u001b[39m.\u001b[39mApplyLinearImpulse(\n\u001b[1;32m    546\u001b[0m         (ox \u001b[39m*\u001b[39m SIDE_ENGINE_POWER \u001b[39m*\u001b[39m s_power, oy \u001b[39m*\u001b[39m SIDE_ENGINE_POWER \u001b[39m*\u001b[39m s_power),\n\u001b[1;32m    547\u001b[0m         impulse_pos,\n\u001b[1;32m    548\u001b[0m         \u001b[39mTrue\u001b[39;00m,\n\u001b[1;32m    549\u001b[0m     )\n\u001b[1;32m    550\u001b[0m     \u001b[39mself\u001b[39m\u001b[39m.\u001b[39mlander\u001b[39m.\u001b[39mApplyLinearImpulse(\n\u001b[1;32m    551\u001b[0m         (\u001b[39m-\u001b[39mox \u001b[39m*\u001b[39m SIDE_ENGINE_POWER \u001b[39m*\u001b[39m s_power, \u001b[39m-\u001b[39moy \u001b[39m*\u001b[39m SIDE_ENGINE_POWER \u001b[39m*\u001b[39m s_power),\n\u001b[1;32m    552\u001b[0m         impulse_pos,\n\u001b[1;32m    553\u001b[0m         \u001b[39mTrue\u001b[39;00m,\n\u001b[1;32m    554\u001b[0m     )\n\u001b[0;32m--> 556\u001b[0m \u001b[39mself\u001b[39;49m\u001b[39m.\u001b[39;49mworld\u001b[39m.\u001b[39;49mStep(\u001b[39m1.0\u001b[39;49m \u001b[39m/\u001b[39;49m FPS, \u001b[39m6\u001b[39;49m \u001b[39m*\u001b[39;49m \u001b[39m30\u001b[39;49m, \u001b[39m2\u001b[39;49m \u001b[39m*\u001b[39;49m \u001b[39m30\u001b[39;49m)\n\u001b[1;32m    558\u001b[0m pos \u001b[39m=\u001b[39m \u001b[39mself\u001b[39m\u001b[39m.\u001b[39mlander\u001b[39m.\u001b[39mposition\n\u001b[1;32m    559\u001b[0m vel \u001b[39m=\u001b[39m \u001b[39mself\u001b[39m\u001b[39m.\u001b[39mlander\u001b[39m.\u001b[39mlinearVelocity\n",
      "File \u001b[0;32m~/anaconda3/envs/rl/lib/python3.10/site-packages/gym/envs/box2d/lunar_lander.py:59\u001b[0m, in \u001b[0;36mContactDetector.BeginContact\u001b[0;34m(self, contact)\u001b[0m\n\u001b[1;32m     56\u001b[0m     contactListener\u001b[39m.\u001b[39m\u001b[39m__init__\u001b[39m(\u001b[39mself\u001b[39m)\n\u001b[1;32m     57\u001b[0m     \u001b[39mself\u001b[39m\u001b[39m.\u001b[39menv \u001b[39m=\u001b[39m env\n\u001b[0;32m---> 59\u001b[0m \u001b[39mdef\u001b[39;00m \u001b[39mBeginContact\u001b[39m(\u001b[39mself\u001b[39m, contact):\n\u001b[1;32m     60\u001b[0m     \u001b[39mif\u001b[39;00m (\n\u001b[1;32m     61\u001b[0m         \u001b[39mself\u001b[39m\u001b[39m.\u001b[39menv\u001b[39m.\u001b[39mlander \u001b[39m==\u001b[39m contact\u001b[39m.\u001b[39mfixtureA\u001b[39m.\u001b[39mbody\n\u001b[1;32m     62\u001b[0m         \u001b[39mor\u001b[39;00m \u001b[39mself\u001b[39m\u001b[39m.\u001b[39menv\u001b[39m.\u001b[39mlander \u001b[39m==\u001b[39m contact\u001b[39m.\u001b[39mfixtureB\u001b[39m.\u001b[39mbody\n\u001b[1;32m     63\u001b[0m     ):\n\u001b[1;32m     64\u001b[0m         \u001b[39mself\u001b[39m\u001b[39m.\u001b[39menv\u001b[39m.\u001b[39mgame_over \u001b[39m=\u001b[39m \u001b[39mTrue\u001b[39;00m\n",
      "\u001b[0;31mKeyboardInterrupt\u001b[0m: "
     ]
    }
   ],
   "source": [
    "DQN_agent.train(max_episodes=1000, min_episodios=250, max_t=500,\n",
    "              batch_size=32, eps_start=1.0, eps_end=0.01, eps_decay=0.995,\n",
    "              dnn_update_frequency=4, dnn_sync_frequency=1000)"
   ]
  },
  {
   "cell_type": "code",
   "execution_count": null,
   "metadata": {},
   "outputs": [],
   "source": [
    "def plot_results(rewards, mean_rewards, reward_threshold, losses, epsilon):\n",
    "    sns.set_style('darkgrid')\n",
    "    n = len([met for met in [rewards, losses, epsilon] if met is not None])\n",
    "    fig, ax = plt.subplots(n, 1, figsize=(10, n*3), sharex=True)\n",
    "    # Rewards\n",
    "    episodes = range(len(rewards))\n",
    "    sns.lineplot(x=episodes, y=rewards, label='Reward', ax=ax[0], lw=0.5, alpha=0.5)\n",
    "    sns.lineplot(x=episodes, y=mean_rewards, label='Mean reward', ax=ax[0], lw=1)\n",
    "    sns.lineplot(x=episodes, y=reward_threshold, label='Reward threshold', ax=ax[0])\n",
    "    ax[0].set_title('Rewards vs. Episodes')\n",
    "    ax[0].set_xlabel('Episodes')\n",
    "    ax[0].set_ylabel('Reward')\n",
    "    # Losses\n",
    "    sns.lineplot(x=episodes, y=losses, ax=ax[1], lw=1)\n",
    "    ax[1].set_title('Losses vs. Episodes')\n",
    "    ax[1].set_xlabel('Episodes')\n",
    "    ax[1].set_ylabel('Loss')\n",
    "    plt.tight_layout()\n",
    "    # Epsilon\n",
    "    if epsilon is not None:\n",
    "        sns.lineplot(x=episodes, y=epsilon, ax=ax[2])\n",
    "        ax[2].set_title('Epsilon vs. Episodes')\n",
    "        ax[2].set_xlabel('Episodes')\n",
    "        ax[2].set_ylabel('Epsilon value')\n",
    "    plt.tight_layout()\n",
    "    plt.show()"
   ]
  },
  {
   "cell_type": "code",
   "execution_count": null,
   "metadata": {},
   "outputs": [],
   "source": [
    "plot_results(rewards = DQN_agent.training_rewards, \n",
    "             mean_rewards = DQN_agent.mean_training_rewards, \n",
    "             reward_threshold = DQN_agent.env.reward_threshold,\n",
    "             losses = DQN_agent.losses,\n",
    "             epsilon = DQN_agent.epsilons)"
   ]
  },
  {
   "attachments": {},
   "cell_type": "markdown",
   "metadata": {},
   "source": [
    "Hyperparameter tuning"
   ]
  },
  {
   "cell_type": "code",
   "execution_count": null,
   "metadata": {},
   "outputs": [],
   "source": [
    "dqn_param_gs = {\n",
    "    'LR': [0.001, 0.0001, 0.00001],\n",
    "    'MEMORY_SIZE': [8000, 16000, 32000],\n",
    "    'DNN_UPD': [10, 20, 50],\n",
    "    'DNN_SYNC': [5000, 10000, 20000],\n",
    "    'BATCH_SIZE': [32, 64, 128]\n",
    "}\n",
    "\n",
    "def train_dqn_agent(env, dqn_agent, param_grid, max_episodes=MAX_EPISODES, \n",
    "                    nblock=100, min_episodes=100, \n",
    "                    writer=None):\n",
    "    # Grid search\n",
    "    for lr in param_grid['LR']:\n",
    "        for memory_size in param_grid['MEMORY_SIZE']:\n",
    "            for dnn_upd in param_grid['DNN_UPD']:\n",
    "                for dnn_sync in param_grid['DNN_SYNC']:\n",
    "                    for batch_size in param_grid['BATCH_SIZE']:\n",
    "                        # Define agent's memory replay buffer\n",
    "                        buffer = experienceReplayBuffer(memory_size=memory_size, burn_in=BURN_IN)\n",
    "                        # Define agent\n",
    "                        dqn_agent = DQN_Agent(env, net, optimizer, buffer, epsilon=EPSILON)\n",
    "                        # Train agent\n",
    "                        dqn_agent.train(max_episodes=max_episodes, nblock=nblock, \n",
    "                                        min_episodes=min_episodes, writer=writer)\n",
    "                        # Save agent\n",
    "                        torch.save(dqn_agent, 'dqn_agent_{}_{}_{}_{}_{}.pth'.format(lr, memory_size, dnn_upd, dnn_sync, batch_size))\n",
    "                        # Clear agent\n",
    "                        del dqn_agent\n",
    "                        del buffer\n",
    "                        torch.cuda.empty_cache()"
   ]
  },
  {
   "attachments": {},
   "cell_type": "markdown",
   "metadata": {},
   "source": [
    "# Proposed agent"
   ]
  },
  {
   "cell_type": "markdown",
   "metadata": {},
   "source": []
  }
 ],
 "metadata": {
  "kernelspec": {
   "display_name": "rl",
   "language": "python",
   "name": "python3"
  },
  "language_info": {
   "codemirror_mode": {
    "name": "ipython",
    "version": 3
   },
   "file_extension": ".py",
   "mimetype": "text/x-python",
   "name": "python",
   "nbconvert_exporter": "python",
   "pygments_lexer": "ipython3",
   "version": "3.10.6"
  },
  "orig_nbformat": 4,
  "vscode": {
   "interpreter": {
    "hash": "10d40e26a39c540065936c3e7b50303c02ea46af6b04425647c283cb61da0a0d"
   }
  }
 },
 "nbformat": 4,
 "nbformat_minor": 2
}
